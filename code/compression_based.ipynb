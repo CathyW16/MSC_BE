{
 "cells": [
  {
   "cell_type": "code",
   "execution_count": null,
   "metadata": {},
   "outputs": [],
   "source": [
    "import os\n",
    "from PIL import Image\n",
    "import numpy as np\n",
    "from skimage.filters import sobel\n",
    "from sklearn.metrics import mean_squared_error\n",
    "\n",
    "#calculate lossly compression\n",
    "def calculate_jpeg_complexity(image_path, quality):\n",
    "    # open image\n",
    "    image = Image.open(image_path)  # convert to greyscale\n",
    "    # save as JPEG, with quality\n",
    "    temp_jpeg_path = 'temp_image.jpg'\n",
    "    image.save(temp_jpeg_path, 'JPEG', quality=quality)\n",
    "    # calc compression ratio\n",
    "    original_size = os.path.getsize(image_path)\n",
    "    compressed_size = os.path.getsize(temp_jpeg_path)\n",
    "    compression_ratio = original_size / compressed_size\n",
    "    \n",
    "    # calc RMSE\n",
    "    compressed_image = Image.open(temp_jpeg_path)\n",
    "    compressed_array = np.array(compressed_image)\n",
    "    original_array = np.array(image)\n",
    "    rmse = mean_squared_error(original_array, compressed_array, squared=False)\n",
    "    # print('rmse=',rmse)\n",
    "    ic_rmse = rmse / compression_ratio\n",
    "    \n",
    "    # delete temporary file\n",
    "    os.remove(temp_jpeg_path)\n",
    "    return ic_rmse\n",
    "\n",
    "\n",
    "jpeg_quality = 75\n",
    "# Read in an image from an existing PNG file.\n",
    "img_head = '/Users/why/Library/CloudStorage/OneDrive-mail.bnu.edu.cn/科研/复杂性/data_figs_1_and_2/gray'\n",
    "for k in range(2,8):\n",
    "    # print(img_head+str(k)+'.png')\n",
    "    image_path = img_head+str(k)+'.png'\n",
    "    # calc JPEG complexity\n",
    "    jpeg_ic_rmse = calculate_jpeg_complexity(image_path, quality=jpeg_quality)\n",
    "    print(f\"JPEG RMSE-based Complexity (ICRMSE): {k,jpeg_ic_rmse}\")\n",
    "\n",
    "\n"
   ]
  }
 ],
 "metadata": {
  "kernelspec": {
   "display_name": "base",
   "language": "python",
   "name": "python3"
  },
  "language_info": {
   "codemirror_mode": {
    "name": "ipython",
    "version": 3
   },
   "file_extension": ".py",
   "mimetype": "text/x-python",
   "name": "python",
   "nbconvert_exporter": "python",
   "pygments_lexer": "ipython3",
   "version": "3.11.5"
  }
 },
 "nbformat": 4,
 "nbformat_minor": 2
}
